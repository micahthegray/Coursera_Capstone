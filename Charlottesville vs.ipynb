{
 "cells": [
  {
   "cell_type": "markdown",
   "metadata": {
    "collapsed": true
   },
   "source": [
    "# Charlottesville vs. Norfolk - A comparison of the cities that host UVA and EVMS\n",
    "## IBM Capstone Project\n",
    "#### Author Micah C. Gray"
   ]
  },
  {
   "cell_type": "markdown",
   "metadata": {},
   "source": [
    "## Introduction"
   ]
  },
  {
   "cell_type": "markdown",
   "metadata": {},
   "source": [
    "Medical students, doctors, and faculty who must make a choice between one medical school or another could likely benefit from having data available about the cities that are homes the schools that they are considering. This report documents the comparison of Charlottesville and Norfolk, the cities that house the University of Virginia and Estern Virginia Medical School, respectively.\n",
    "\n",
    "This analysis draws upon geographic data obtained from Foursquare in order to explore the diversity of venues surrounding the two schools and compare the most common venue types surrounding each of the two schools. It is hoped that people interested in moving to either Charlottesville or Norfolk will be able to use the results of this analysis to make a more informed decision about which school to select, or which amenities to expect in the cities that they move to. "
   ]
  },
  {
   "cell_type": "code",
   "execution_count": null,
   "metadata": {},
   "outputs": [],
   "source": []
  }
 ],
 "metadata": {
  "kernelspec": {
   "display_name": "Python 3.6",
   "language": "python",
   "name": "python3"
  },
  "language_info": {
   "codemirror_mode": {
    "name": "ipython",
    "version": 3
   },
   "file_extension": ".py",
   "mimetype": "text/x-python",
   "name": "python",
   "nbconvert_exporter": "python",
   "pygments_lexer": "ipython3",
   "version": "3.6.8"
  }
 },
 "nbformat": 4,
 "nbformat_minor": 1
}
