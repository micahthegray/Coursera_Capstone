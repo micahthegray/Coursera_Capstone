{
 "cells": [
  {
   "cell_type": "markdown",
   "metadata": {},
   "source": [
    "## Installing and importing Python packages"
   ]
  },
  {
   "cell_type": "markdown",
   "metadata": {},
   "source": [
    "Before using a library or module, you have to import it. Some libraries are not found on your system so you have to install them before importing them.  The following command, executed in a command prompt, will install the latest version of a module named \"SomePackage\" from the Python Packaging Index:\n",
    "\n",
    "### python -m pip install SomePackage\n",
    "\n",
    "However, if you have Anaconda installed, you can simply use the Anaconda interface and install new packages with a few clicks of the mouse. If you prefer to use a command prompt, use the following syntax:\n",
    "\n",
    "### conda install SomePackage\n",
    "\n",
    "Refer to this website for details: https://docs.anaconda.com/anaconda/user-guide/tasks/install-packages/"
   ]
  },
  {
   "cell_type": "markdown",
   "metadata": {},
   "source": [
    "## No Anaconda?\n",
    "\n",
    "Let's say we needed to install selenium.webdriver and BeautifulSoup.BeautifulSoup and you do not have Anaconda. First you would open a command prompt and type these two lines:\n",
    "\n",
    "### python -m pip install selenium\n",
    "### python -m pip install BeautifulSoup"
   ]
  },
  {
   "cell_type": "markdown",
   "metadata": {},
   "source": [
    "By default, pip installs the packages in \"site-packages.\" For example, on my computer, the packages will be installed at\n",
    "\n",
    " ### C:\\Users\\micah\\AppData\\Local\\Continuum\\anaconda3\\lib\\site-packages"
   ]
  },
  {
   "cell_type": "markdown",
   "metadata": {},
   "source": [
    "Alternatively you could create the following code in your interpreter (Jupyter notebook, for example):\n",
    "\n",
    "#### import subprocess\n",
    "#### import sys\n",
    "\n",
    "#### def install(package):\n",
    "    subprocess.call([sys.executable, \"-m\", \"pip\", \"install\", package])\n",
    "\n",
    "#### install('requests')\n",
    "#### import requests  # where requests is the library or package you want to install"
   ]
  },
  {
   "cell_type": "markdown",
   "metadata": {},
   "source": [
    "After installing a package, you can navigate to the site-packages directory with\n",
    "\n",
    "#### cd C:\\Users\\micah\\AppData\\Local\\Continuum\\anaconda3\\lib\\site-packages\n",
    "\n",
    "then check the files in the directory to see if it installed:\n",
    "\n",
    "#### dir"
   ]
  },
  {
   "cell_type": "markdown",
   "metadata": {},
   "source": [
    "What if the package isn't listed in the directory? The following response from wovano on stackoverflow.com addresses this problem:\n",
    "\n",
    "It happens quite often that someone installs a Python package using pip, but then can't seem to import it in Python. To understand why this happens, you must know how Windows finds executables to run, and how the Python software is installed. The basics:\n",
    "\n",
    "    When running a command, Windows searches for an executable in the environment variable PATH. It executes the first\n",
    "    one found. \n",
    "    \n",
    "    The Python interpreter, python.exe, is installed in <PYTHON_INSTALL_DIR> (e.g. C:\\Python\\3.7).\n",
    "    \n",
    "    Python tools such as pip, pylint, virtualenv, PyCrust, etc., are installed in <PYTHON_INSTALL_DIR>\\Scripts.\n",
    "    \n",
    "    The Python launcher for Windows, py.exe, is installed in your Windows system directory (e.g. C:\\Windows).\n",
    "    \n",
    "    python and pip commands use the modules found in the directory they're installed in, they do not look at PATH.\n",
    "\n",
    "So, let's say you have the following Python versions:"
   ]
  },
  {
   "cell_type": "markdown",
   "metadata": {},
   "source": [
    "    C:\\Python\\2.7\n",
    "\n",
    "    C:\\Python\\3.6\n",
    "\n",
    "    C:\\Python\\3.7\n",
    "\n",
    "and your PATH environment contains the following directories:\n",
    "\n",
    "    C:\\Python\\2.7\n",
    "\n",
    "    C:\\Python\\3.6\\Scripts\n",
    "\n",
    "then, see the following output:\n",
    "\n",
    "    C:\\>python -V\n",
    "    Python 2.7.16\n",
    "\n",
    "    C:\\>pip -V\n",
    "    pip 19.1.1 from c:\\python\\3.6\\lib\\site-packages\\pip (python 3.6)\n",
    "\n",
    "    C:\\>py -V\n",
    "    Python 3.7.3\n",
    "\n",
    "So, when running pip, it is possible that the packages are installed in another Python version [than] the version you'll get when running python.\n",
    "\n",
    "To see which versions are (correctly) installed on your system, run py -0p. Example output:\n",
    "\n",
    "    C:\\>py -0p\n",
    "    Installed Pythons found by py Launcher for Windows\n",
    "\n",
    "     -3.7-64        C:\\Python\\3.7-64\\python.exe *\n",
    " \n",
    "     -3.7-32        C:\\Python\\3.7-32\\python.exe\n",
    " \n",
    "     -3.6-64        C:\\Python\\3.6-64\\python.exe\n",
    " \n",
    "     -2.7-64        C:\\Python\\2.7-64\\python.exe\n",
    " \n",
    "     -2.7-32        C:\\Python\\2.7-32\\python.exe"
   ]
  },
  {
   "cell_type": "markdown",
   "metadata": {},
   "source": [
    "General solution (for Windows)\n",
    "\n",
    "The best thing is not to rely on your system PATH. Use the py launcher to select the version you want. To run the pip module corresponding to the Python version you want to use, start pip as a module instead of executable. So instead of:\n",
    "\n",
    "    pip install <package>\n",
    "\n",
    "run:\n",
    "\n",
    "    py -3.6 -m pip install <package>\n",
    "\n",
    "To see which Python packages you have installed for that Python version, use:\n",
    "\n",
    "    py -3.6 -m pip freeze\n",
    "\n",
    "Some additional remarks\n",
    "\n",
    "    Whether a Python installation is added to your PATH or not, is an option during the installation. If it is added, it is added at the beginning of the PATH, so the most recently installed Python version will be selected first.\n",
    "    \n",
    "    The Windows system directory should always be in your PATH, so the py command will always be available, even if you did not add any Python installation to your PATH.\n",
    "    \n",
    "    If you double-click on a .py file from Windows Explorer, or type the filename directly as a command in a Command Prompt (e.g. test.py), then the action is determined from the Windows registry. It is possible that the file will be opened in your IDE, or that it's executed using a Python interpreter. In that case, it is probably the most recently installed Python version. It's possible that the command python test.py, uses a different Python version than the command test.py.\n",
    "    \n",
    "    Some installations also include executables named python2/python3 (not on Windows), pip3/pip3.7 (also on Windows), etc. This would also allow you to specify which version to use. These would be useful on systems where these binaries exist and are in the path."
   ]
  },
  {
   "cell_type": "code",
   "execution_count": null,
   "metadata": {},
   "outputs": [],
   "source": []
  }
 ],
 "metadata": {
  "kernelspec": {
   "display_name": "Python 3",
   "language": "python",
   "name": "python3"
  },
  "language_info": {
   "codemirror_mode": {
    "name": "ipython",
    "version": 3
   },
   "file_extension": ".py",
   "mimetype": "text/x-python",
   "name": "python",
   "nbconvert_exporter": "python",
   "pygments_lexer": "ipython3",
   "version": "3.7.3"
  }
 },
 "nbformat": 4,
 "nbformat_minor": 2
}
